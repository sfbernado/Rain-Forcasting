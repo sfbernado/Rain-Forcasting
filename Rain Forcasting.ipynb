{
  "nbformat": 4,
  "nbformat_minor": 0,
  "metadata": {
    "colab": {
      "provenance": [],
      "gpuType": "T4"
    },
    "kernelspec": {
      "name": "python3",
      "display_name": "Python 3"
    },
    "language_info": {
      "name": "python"
    }
  },
  "cells": [
    {
      "cell_type": "markdown",
      "source": [
        "### 1) Import Data"
      ],
      "metadata": {
        "id": "aBFBZyGpr-c6"
      }
    },
    {
      "cell_type": "code",
      "execution_count": 1,
      "metadata": {
        "colab": {
          "base_uri": "https://localhost:8080/"
        },
        "id": "gl4pS70trkho",
        "outputId": "8136ee74-62ca-4feb-a33f-ff2fd5981481"
      },
      "outputs": [
        {
          "output_type": "stream",
          "name": "stdout",
          "text": [
            "--2023-12-16 15:04:27--  https://raw.githubusercontent.com/Shizu-ka/bruvv/main/weatherAUS.csv\n",
            "Resolving raw.githubusercontent.com (raw.githubusercontent.com)... 185.199.108.133, 185.199.110.133, 185.199.111.133, ...\n",
            "Connecting to raw.githubusercontent.com (raw.githubusercontent.com)|185.199.108.133|:443... connected.\n",
            "HTTP request sent, awaiting response... 200 OK\n",
            "Length: 14167326 (14M) [text/plain]\n",
            "Saving to: ‘weatherAUS.csv’\n",
            "\n",
            "weatherAUS.csv      100%[===================>]  13.51M  --.-KB/s    in 0.1s    \n",
            "\n",
            "2023-12-16 15:04:27 (98.2 MB/s) - ‘weatherAUS.csv’ saved [14167326/14167326]\n",
            "\n"
          ]
        }
      ],
      "source": [
        "!wget --no-check-certificate --content-disposition https://raw.githubusercontent.com/Shizu-ka/bruvv/main/weatherAUS.csv"
      ]
    },
    {
      "cell_type": "code",
      "source": [
        "import numpy as np\n",
        "import pandas as pd\n",
        "import seaborn as sns\n",
        "import matplotlib.pyplot as plt\n",
        "from collections import Counter\n",
        "%matplotlib inline\n",
        "\n",
        "# machine learning\n",
        "from sklearn.linear_model import LogisticRegression, SGDClassifier, LinearRegression\n",
        "from sklearn.tree import DecisionTreeClassifier\n",
        "from sklearn.naive_bayes import GaussianNB\n",
        "from sklearn.svm import SVC\n",
        "from sklearn.neighbors import KNeighborsClassifier, KNeighborsRegressor\n",
        "\n",
        "from sklearn import tree\n",
        "from sklearn.preprocessing import StandardScaler\n",
        "from sklearn.model_selection import train_test_split, GridSearchCV, cross_val_predict, cross_val_score\n",
        "from sklearn.pipeline import Pipeline\n",
        "from sklearn.metrics import accuracy_score, classification_report, confusion_matrix"
      ],
      "metadata": {
        "id": "_uP8A6II9R-9"
      },
      "execution_count": 2,
      "outputs": []
    },
    {
      "cell_type": "code",
      "source": [
        "ori = pd.read_csv('weatherAUS.csv')\n",
        "df = pd.read_csv('weatherAUS.csv')\n",
        "df_mean = pd.read_csv('weatherAUS.csv')"
      ],
      "metadata": {
        "id": "r1JEly0OtZMX"
      },
      "execution_count": 3,
      "outputs": []
    },
    {
      "cell_type": "code",
      "source": [
        "df.head()"
      ],
      "metadata": {
        "colab": {
          "base_uri": "https://localhost:8080/",
          "height": 342
        },
        "id": "0B5UXJ-7tcng",
        "outputId": "bf1fbc1a-cf86-4967-a4fa-d96851fa08fe"
      },
      "execution_count": 4,
      "outputs": [
        {
          "output_type": "execute_result",
          "data": {
            "text/plain": [
              "         Date Location  MinTemp  MaxTemp  Rainfall  Evaporation  Sunshine  \\\n",
              "0  2008-12-01   Albury     13.4     22.9       0.6          NaN       NaN   \n",
              "1  2008-12-02   Albury      7.4     25.1       0.0          NaN       NaN   \n",
              "2  2008-12-03   Albury     12.9     25.7       0.0          NaN       NaN   \n",
              "3  2008-12-04   Albury      9.2     28.0       0.0          NaN       NaN   \n",
              "4  2008-12-05   Albury     17.5     32.3       1.0          NaN       NaN   \n",
              "\n",
              "  WindGustDir  WindGustSpeed WindDir9am  ... Humidity3pm  Pressure9am  \\\n",
              "0           W           44.0          W  ...        22.0       1007.7   \n",
              "1         WNW           44.0        NNW  ...        25.0       1010.6   \n",
              "2         WSW           46.0          W  ...        30.0       1007.6   \n",
              "3          NE           24.0         SE  ...        16.0       1017.6   \n",
              "4           W           41.0        ENE  ...        33.0       1010.8   \n",
              "\n",
              "   Pressure3pm  Cloud9am  Cloud3pm  Temp9am  Temp3pm  RainToday  RISK_MM  \\\n",
              "0       1007.1       8.0       NaN     16.9     21.8         No      0.0   \n",
              "1       1007.8       NaN       NaN     17.2     24.3         No      0.0   \n",
              "2       1008.7       NaN       2.0     21.0     23.2         No      0.0   \n",
              "3       1012.8       NaN       NaN     18.1     26.5         No      1.0   \n",
              "4       1006.0       7.0       8.0     17.8     29.7         No      0.2   \n",
              "\n",
              "   RainTomorrow  \n",
              "0            No  \n",
              "1            No  \n",
              "2            No  \n",
              "3            No  \n",
              "4            No  \n",
              "\n",
              "[5 rows x 24 columns]"
            ],
            "text/html": [
              "\n",
              "  <div id=\"df-e12ee66b-8e06-4561-b79c-074a8b769f2c\" class=\"colab-df-container\">\n",
              "    <div>\n",
              "<style scoped>\n",
              "    .dataframe tbody tr th:only-of-type {\n",
              "        vertical-align: middle;\n",
              "    }\n",
              "\n",
              "    .dataframe tbody tr th {\n",
              "        vertical-align: top;\n",
              "    }\n",
              "\n",
              "    .dataframe thead th {\n",
              "        text-align: right;\n",
              "    }\n",
              "</style>\n",
              "<table border=\"1\" class=\"dataframe\">\n",
              "  <thead>\n",
              "    <tr style=\"text-align: right;\">\n",
              "      <th></th>\n",
              "      <th>Date</th>\n",
              "      <th>Location</th>\n",
              "      <th>MinTemp</th>\n",
              "      <th>MaxTemp</th>\n",
              "      <th>Rainfall</th>\n",
              "      <th>Evaporation</th>\n",
              "      <th>Sunshine</th>\n",
              "      <th>WindGustDir</th>\n",
              "      <th>WindGustSpeed</th>\n",
              "      <th>WindDir9am</th>\n",
              "      <th>...</th>\n",
              "      <th>Humidity3pm</th>\n",
              "      <th>Pressure9am</th>\n",
              "      <th>Pressure3pm</th>\n",
              "      <th>Cloud9am</th>\n",
              "      <th>Cloud3pm</th>\n",
              "      <th>Temp9am</th>\n",
              "      <th>Temp3pm</th>\n",
              "      <th>RainToday</th>\n",
              "      <th>RISK_MM</th>\n",
              "      <th>RainTomorrow</th>\n",
              "    </tr>\n",
              "  </thead>\n",
              "  <tbody>\n",
              "    <tr>\n",
              "      <th>0</th>\n",
              "      <td>2008-12-01</td>\n",
              "      <td>Albury</td>\n",
              "      <td>13.4</td>\n",
              "      <td>22.9</td>\n",
              "      <td>0.6</td>\n",
              "      <td>NaN</td>\n",
              "      <td>NaN</td>\n",
              "      <td>W</td>\n",
              "      <td>44.0</td>\n",
              "      <td>W</td>\n",
              "      <td>...</td>\n",
              "      <td>22.0</td>\n",
              "      <td>1007.7</td>\n",
              "      <td>1007.1</td>\n",
              "      <td>8.0</td>\n",
              "      <td>NaN</td>\n",
              "      <td>16.9</td>\n",
              "      <td>21.8</td>\n",
              "      <td>No</td>\n",
              "      <td>0.0</td>\n",
              "      <td>No</td>\n",
              "    </tr>\n",
              "    <tr>\n",
              "      <th>1</th>\n",
              "      <td>2008-12-02</td>\n",
              "      <td>Albury</td>\n",
              "      <td>7.4</td>\n",
              "      <td>25.1</td>\n",
              "      <td>0.0</td>\n",
              "      <td>NaN</td>\n",
              "      <td>NaN</td>\n",
              "      <td>WNW</td>\n",
              "      <td>44.0</td>\n",
              "      <td>NNW</td>\n",
              "      <td>...</td>\n",
              "      <td>25.0</td>\n",
              "      <td>1010.6</td>\n",
              "      <td>1007.8</td>\n",
              "      <td>NaN</td>\n",
              "      <td>NaN</td>\n",
              "      <td>17.2</td>\n",
              "      <td>24.3</td>\n",
              "      <td>No</td>\n",
              "      <td>0.0</td>\n",
              "      <td>No</td>\n",
              "    </tr>\n",
              "    <tr>\n",
              "      <th>2</th>\n",
              "      <td>2008-12-03</td>\n",
              "      <td>Albury</td>\n",
              "      <td>12.9</td>\n",
              "      <td>25.7</td>\n",
              "      <td>0.0</td>\n",
              "      <td>NaN</td>\n",
              "      <td>NaN</td>\n",
              "      <td>WSW</td>\n",
              "      <td>46.0</td>\n",
              "      <td>W</td>\n",
              "      <td>...</td>\n",
              "      <td>30.0</td>\n",
              "      <td>1007.6</td>\n",
              "      <td>1008.7</td>\n",
              "      <td>NaN</td>\n",
              "      <td>2.0</td>\n",
              "      <td>21.0</td>\n",
              "      <td>23.2</td>\n",
              "      <td>No</td>\n",
              "      <td>0.0</td>\n",
              "      <td>No</td>\n",
              "    </tr>\n",
              "    <tr>\n",
              "      <th>3</th>\n",
              "      <td>2008-12-04</td>\n",
              "      <td>Albury</td>\n",
              "      <td>9.2</td>\n",
              "      <td>28.0</td>\n",
              "      <td>0.0</td>\n",
              "      <td>NaN</td>\n",
              "      <td>NaN</td>\n",
              "      <td>NE</td>\n",
              "      <td>24.0</td>\n",
              "      <td>SE</td>\n",
              "      <td>...</td>\n",
              "      <td>16.0</td>\n",
              "      <td>1017.6</td>\n",
              "      <td>1012.8</td>\n",
              "      <td>NaN</td>\n",
              "      <td>NaN</td>\n",
              "      <td>18.1</td>\n",
              "      <td>26.5</td>\n",
              "      <td>No</td>\n",
              "      <td>1.0</td>\n",
              "      <td>No</td>\n",
              "    </tr>\n",
              "    <tr>\n",
              "      <th>4</th>\n",
              "      <td>2008-12-05</td>\n",
              "      <td>Albury</td>\n",
              "      <td>17.5</td>\n",
              "      <td>32.3</td>\n",
              "      <td>1.0</td>\n",
              "      <td>NaN</td>\n",
              "      <td>NaN</td>\n",
              "      <td>W</td>\n",
              "      <td>41.0</td>\n",
              "      <td>ENE</td>\n",
              "      <td>...</td>\n",
              "      <td>33.0</td>\n",
              "      <td>1010.8</td>\n",
              "      <td>1006.0</td>\n",
              "      <td>7.0</td>\n",
              "      <td>8.0</td>\n",
              "      <td>17.8</td>\n",
              "      <td>29.7</td>\n",
              "      <td>No</td>\n",
              "      <td>0.2</td>\n",
              "      <td>No</td>\n",
              "    </tr>\n",
              "  </tbody>\n",
              "</table>\n",
              "<p>5 rows × 24 columns</p>\n",
              "</div>\n",
              "    <div class=\"colab-df-buttons\">\n",
              "\n",
              "  <div class=\"colab-df-container\">\n",
              "    <button class=\"colab-df-convert\" onclick=\"convertToInteractive('df-e12ee66b-8e06-4561-b79c-074a8b769f2c')\"\n",
              "            title=\"Convert this dataframe to an interactive table.\"\n",
              "            style=\"display:none;\">\n",
              "\n",
              "  <svg xmlns=\"http://www.w3.org/2000/svg\" height=\"24px\" viewBox=\"0 -960 960 960\">\n",
              "    <path d=\"M120-120v-720h720v720H120Zm60-500h600v-160H180v160Zm220 220h160v-160H400v160Zm0 220h160v-160H400v160ZM180-400h160v-160H180v160Zm440 0h160v-160H620v160ZM180-180h160v-160H180v160Zm440 0h160v-160H620v160Z\"/>\n",
              "  </svg>\n",
              "    </button>\n",
              "\n",
              "  <style>\n",
              "    .colab-df-container {\n",
              "      display:flex;\n",
              "      gap: 12px;\n",
              "    }\n",
              "\n",
              "    .colab-df-convert {\n",
              "      background-color: #E8F0FE;\n",
              "      border: none;\n",
              "      border-radius: 50%;\n",
              "      cursor: pointer;\n",
              "      display: none;\n",
              "      fill: #1967D2;\n",
              "      height: 32px;\n",
              "      padding: 0 0 0 0;\n",
              "      width: 32px;\n",
              "    }\n",
              "\n",
              "    .colab-df-convert:hover {\n",
              "      background-color: #E2EBFA;\n",
              "      box-shadow: 0px 1px 2px rgba(60, 64, 67, 0.3), 0px 1px 3px 1px rgba(60, 64, 67, 0.15);\n",
              "      fill: #174EA6;\n",
              "    }\n",
              "\n",
              "    .colab-df-buttons div {\n",
              "      margin-bottom: 4px;\n",
              "    }\n",
              "\n",
              "    [theme=dark] .colab-df-convert {\n",
              "      background-color: #3B4455;\n",
              "      fill: #D2E3FC;\n",
              "    }\n",
              "\n",
              "    [theme=dark] .colab-df-convert:hover {\n",
              "      background-color: #434B5C;\n",
              "      box-shadow: 0px 1px 3px 1px rgba(0, 0, 0, 0.15);\n",
              "      filter: drop-shadow(0px 1px 2px rgba(0, 0, 0, 0.3));\n",
              "      fill: #FFFFFF;\n",
              "    }\n",
              "  </style>\n",
              "\n",
              "    <script>\n",
              "      const buttonEl =\n",
              "        document.querySelector('#df-e12ee66b-8e06-4561-b79c-074a8b769f2c button.colab-df-convert');\n",
              "      buttonEl.style.display =\n",
              "        google.colab.kernel.accessAllowed ? 'block' : 'none';\n",
              "\n",
              "      async function convertToInteractive(key) {\n",
              "        const element = document.querySelector('#df-e12ee66b-8e06-4561-b79c-074a8b769f2c');\n",
              "        const dataTable =\n",
              "          await google.colab.kernel.invokeFunction('convertToInteractive',\n",
              "                                                    [key], {});\n",
              "        if (!dataTable) return;\n",
              "\n",
              "        const docLinkHtml = 'Like what you see? Visit the ' +\n",
              "          '<a target=\"_blank\" href=https://colab.research.google.com/notebooks/data_table.ipynb>data table notebook</a>'\n",
              "          + ' to learn more about interactive tables.';\n",
              "        element.innerHTML = '';\n",
              "        dataTable['output_type'] = 'display_data';\n",
              "        await google.colab.output.renderOutput(dataTable, element);\n",
              "        const docLink = document.createElement('div');\n",
              "        docLink.innerHTML = docLinkHtml;\n",
              "        element.appendChild(docLink);\n",
              "      }\n",
              "    </script>\n",
              "  </div>\n",
              "\n",
              "\n",
              "<div id=\"df-dac10d41-a75d-47db-b137-294e36201d1e\">\n",
              "  <button class=\"colab-df-quickchart\" onclick=\"quickchart('df-dac10d41-a75d-47db-b137-294e36201d1e')\"\n",
              "            title=\"Suggest charts\"\n",
              "            style=\"display:none;\">\n",
              "\n",
              "<svg xmlns=\"http://www.w3.org/2000/svg\" height=\"24px\"viewBox=\"0 0 24 24\"\n",
              "     width=\"24px\">\n",
              "    <g>\n",
              "        <path d=\"M19 3H5c-1.1 0-2 .9-2 2v14c0 1.1.9 2 2 2h14c1.1 0 2-.9 2-2V5c0-1.1-.9-2-2-2zM9 17H7v-7h2v7zm4 0h-2V7h2v10zm4 0h-2v-4h2v4z\"/>\n",
              "    </g>\n",
              "</svg>\n",
              "  </button>\n",
              "\n",
              "<style>\n",
              "  .colab-df-quickchart {\n",
              "      --bg-color: #E8F0FE;\n",
              "      --fill-color: #1967D2;\n",
              "      --hover-bg-color: #E2EBFA;\n",
              "      --hover-fill-color: #174EA6;\n",
              "      --disabled-fill-color: #AAA;\n",
              "      --disabled-bg-color: #DDD;\n",
              "  }\n",
              "\n",
              "  [theme=dark] .colab-df-quickchart {\n",
              "      --bg-color: #3B4455;\n",
              "      --fill-color: #D2E3FC;\n",
              "      --hover-bg-color: #434B5C;\n",
              "      --hover-fill-color: #FFFFFF;\n",
              "      --disabled-bg-color: #3B4455;\n",
              "      --disabled-fill-color: #666;\n",
              "  }\n",
              "\n",
              "  .colab-df-quickchart {\n",
              "    background-color: var(--bg-color);\n",
              "    border: none;\n",
              "    border-radius: 50%;\n",
              "    cursor: pointer;\n",
              "    display: none;\n",
              "    fill: var(--fill-color);\n",
              "    height: 32px;\n",
              "    padding: 0;\n",
              "    width: 32px;\n",
              "  }\n",
              "\n",
              "  .colab-df-quickchart:hover {\n",
              "    background-color: var(--hover-bg-color);\n",
              "    box-shadow: 0 1px 2px rgba(60, 64, 67, 0.3), 0 1px 3px 1px rgba(60, 64, 67, 0.15);\n",
              "    fill: var(--button-hover-fill-color);\n",
              "  }\n",
              "\n",
              "  .colab-df-quickchart-complete:disabled,\n",
              "  .colab-df-quickchart-complete:disabled:hover {\n",
              "    background-color: var(--disabled-bg-color);\n",
              "    fill: var(--disabled-fill-color);\n",
              "    box-shadow: none;\n",
              "  }\n",
              "\n",
              "  .colab-df-spinner {\n",
              "    border: 2px solid var(--fill-color);\n",
              "    border-color: transparent;\n",
              "    border-bottom-color: var(--fill-color);\n",
              "    animation:\n",
              "      spin 1s steps(1) infinite;\n",
              "  }\n",
              "\n",
              "  @keyframes spin {\n",
              "    0% {\n",
              "      border-color: transparent;\n",
              "      border-bottom-color: var(--fill-color);\n",
              "      border-left-color: var(--fill-color);\n",
              "    }\n",
              "    20% {\n",
              "      border-color: transparent;\n",
              "      border-left-color: var(--fill-color);\n",
              "      border-top-color: var(--fill-color);\n",
              "    }\n",
              "    30% {\n",
              "      border-color: transparent;\n",
              "      border-left-color: var(--fill-color);\n",
              "      border-top-color: var(--fill-color);\n",
              "      border-right-color: var(--fill-color);\n",
              "    }\n",
              "    40% {\n",
              "      border-color: transparent;\n",
              "      border-right-color: var(--fill-color);\n",
              "      border-top-color: var(--fill-color);\n",
              "    }\n",
              "    60% {\n",
              "      border-color: transparent;\n",
              "      border-right-color: var(--fill-color);\n",
              "    }\n",
              "    80% {\n",
              "      border-color: transparent;\n",
              "      border-right-color: var(--fill-color);\n",
              "      border-bottom-color: var(--fill-color);\n",
              "    }\n",
              "    90% {\n",
              "      border-color: transparent;\n",
              "      border-bottom-color: var(--fill-color);\n",
              "    }\n",
              "  }\n",
              "</style>\n",
              "\n",
              "  <script>\n",
              "    async function quickchart(key) {\n",
              "      const quickchartButtonEl =\n",
              "        document.querySelector('#' + key + ' button');\n",
              "      quickchartButtonEl.disabled = true;  // To prevent multiple clicks.\n",
              "      quickchartButtonEl.classList.add('colab-df-spinner');\n",
              "      try {\n",
              "        const charts = await google.colab.kernel.invokeFunction(\n",
              "            'suggestCharts', [key], {});\n",
              "      } catch (error) {\n",
              "        console.error('Error during call to suggestCharts:', error);\n",
              "      }\n",
              "      quickchartButtonEl.classList.remove('colab-df-spinner');\n",
              "      quickchartButtonEl.classList.add('colab-df-quickchart-complete');\n",
              "    }\n",
              "    (() => {\n",
              "      let quickchartButtonEl =\n",
              "        document.querySelector('#df-dac10d41-a75d-47db-b137-294e36201d1e button');\n",
              "      quickchartButtonEl.style.display =\n",
              "        google.colab.kernel.accessAllowed ? 'block' : 'none';\n",
              "    })();\n",
              "  </script>\n",
              "</div>\n",
              "    </div>\n",
              "  </div>\n"
            ]
          },
          "metadata": {},
          "execution_count": 4
        }
      ]
    },
    {
      "cell_type": "code",
      "source": [
        "df.info()"
      ],
      "metadata": {
        "colab": {
          "base_uri": "https://localhost:8080/"
        },
        "id": "hvkEiIOtjozR",
        "outputId": "737bc2b0-6030-45f7-8567-d7d443e0596c"
      },
      "execution_count": 5,
      "outputs": [
        {
          "output_type": "stream",
          "name": "stdout",
          "text": [
            "<class 'pandas.core.frame.DataFrame'>\n",
            "RangeIndex: 142193 entries, 0 to 142192\n",
            "Data columns (total 24 columns):\n",
            " #   Column         Non-Null Count   Dtype  \n",
            "---  ------         --------------   -----  \n",
            " 0   Date           142193 non-null  object \n",
            " 1   Location       142193 non-null  object \n",
            " 2   MinTemp        141556 non-null  float64\n",
            " 3   MaxTemp        141871 non-null  float64\n",
            " 4   Rainfall       140787 non-null  float64\n",
            " 5   Evaporation    81350 non-null   float64\n",
            " 6   Sunshine       74377 non-null   float64\n",
            " 7   WindGustDir    132863 non-null  object \n",
            " 8   WindGustSpeed  132923 non-null  float64\n",
            " 9   WindDir9am     132180 non-null  object \n",
            " 10  WindDir3pm     138415 non-null  object \n",
            " 11  WindSpeed9am   140845 non-null  float64\n",
            " 12  WindSpeed3pm   139563 non-null  float64\n",
            " 13  Humidity9am    140419 non-null  float64\n",
            " 14  Humidity3pm    138583 non-null  float64\n",
            " 15  Pressure9am    128179 non-null  float64\n",
            " 16  Pressure3pm    128212 non-null  float64\n",
            " 17  Cloud9am       88536 non-null   float64\n",
            " 18  Cloud3pm       85099 non-null   float64\n",
            " 19  Temp9am        141289 non-null  float64\n",
            " 20  Temp3pm        139467 non-null  float64\n",
            " 21  RainToday      140787 non-null  object \n",
            " 22  RISK_MM        142193 non-null  float64\n",
            " 23  RainTomorrow   142193 non-null  object \n",
            "dtypes: float64(17), object(7)\n",
            "memory usage: 26.0+ MB\n"
          ]
        }
      ]
    },
    {
      "cell_type": "markdown",
      "source": [
        "### 1) Menyimpan kelas dan menghapus kolom yang tidak berguna"
      ],
      "metadata": {
        "id": "J8sS1iS0uMfr"
      }
    },
    {
      "cell_type": "code",
      "source": [
        "df.isnull().mean()"
      ],
      "metadata": {
        "colab": {
          "base_uri": "https://localhost:8080/"
        },
        "id": "NUlgPEuD0ycd",
        "outputId": "6f8b879c-d202-45aa-c3dd-f89d19b35326"
      },
      "execution_count": 6,
      "outputs": [
        {
          "output_type": "execute_result",
          "data": {
            "text/plain": [
              "Date             0.000000\n",
              "Location         0.000000\n",
              "MinTemp          0.004480\n",
              "MaxTemp          0.002265\n",
              "Rainfall         0.009888\n",
              "Evaporation      0.427890\n",
              "Sunshine         0.476929\n",
              "WindGustDir      0.065615\n",
              "WindGustSpeed    0.065193\n",
              "WindDir9am       0.070418\n",
              "WindDir3pm       0.026570\n",
              "WindSpeed9am     0.009480\n",
              "WindSpeed3pm     0.018496\n",
              "Humidity9am      0.012476\n",
              "Humidity3pm      0.025388\n",
              "Pressure9am      0.098556\n",
              "Pressure3pm      0.098324\n",
              "Cloud9am         0.377353\n",
              "Cloud3pm         0.401525\n",
              "Temp9am          0.006358\n",
              "Temp3pm          0.019171\n",
              "RainToday        0.009888\n",
              "RISK_MM          0.000000\n",
              "RainTomorrow     0.000000\n",
              "dtype: float64"
            ]
          },
          "metadata": {},
          "execution_count": 6
        }
      ]
    },
    {
      "cell_type": "markdown",
      "source": [
        "Karena Evaporation, Sunshine, Cloud9am, Cloud3pm mengandung nilai nol lebih dari 30%, bakal kurang membantu untuk model makanya dihapus.\n",
        "date juga ga diperlukan"
      ],
      "metadata": {
        "id": "2dooSv5aw3BG"
      }
    },
    {
      "cell_type": "code",
      "source": [
        "df = df.drop(['Date','Evaporation','Sunshine','Cloud9am','Cloud3pm'], axis=1)\n",
        "df_mean = df_mean.drop(['Date','Evaporation','Sunshine','Cloud9am','Cloud3pm'], axis=1)\n",
        "df.head()"
      ],
      "metadata": {
        "colab": {
          "base_uri": "https://localhost:8080/",
          "height": 226
        },
        "id": "6dgj66k_uRtI",
        "outputId": "ab3b4f7c-8dea-431c-ff54-e1a31db9011f"
      },
      "execution_count": 7,
      "outputs": [
        {
          "output_type": "execute_result",
          "data": {
            "text/plain": [
              "  Location  MinTemp  MaxTemp  Rainfall WindGustDir  WindGustSpeed WindDir9am  \\\n",
              "0   Albury     13.4     22.9       0.6           W           44.0          W   \n",
              "1   Albury      7.4     25.1       0.0         WNW           44.0        NNW   \n",
              "2   Albury     12.9     25.7       0.0         WSW           46.0          W   \n",
              "3   Albury      9.2     28.0       0.0          NE           24.0         SE   \n",
              "4   Albury     17.5     32.3       1.0           W           41.0        ENE   \n",
              "\n",
              "  WindDir3pm  WindSpeed9am  WindSpeed3pm  Humidity9am  Humidity3pm  \\\n",
              "0        WNW          20.0          24.0         71.0         22.0   \n",
              "1        WSW           4.0          22.0         44.0         25.0   \n",
              "2        WSW          19.0          26.0         38.0         30.0   \n",
              "3          E          11.0           9.0         45.0         16.0   \n",
              "4         NW           7.0          20.0         82.0         33.0   \n",
              "\n",
              "   Pressure9am  Pressure3pm  Temp9am  Temp3pm RainToday  RISK_MM RainTomorrow  \n",
              "0       1007.7       1007.1     16.9     21.8        No      0.0           No  \n",
              "1       1010.6       1007.8     17.2     24.3        No      0.0           No  \n",
              "2       1007.6       1008.7     21.0     23.2        No      0.0           No  \n",
              "3       1017.6       1012.8     18.1     26.5        No      1.0           No  \n",
              "4       1010.8       1006.0     17.8     29.7        No      0.2           No  "
            ],
            "text/html": [
              "\n",
              "  <div id=\"df-d859833b-7235-44ad-8cc0-4c93ba5dbc60\" class=\"colab-df-container\">\n",
              "    <div>\n",
              "<style scoped>\n",
              "    .dataframe tbody tr th:only-of-type {\n",
              "        vertical-align: middle;\n",
              "    }\n",
              "\n",
              "    .dataframe tbody tr th {\n",
              "        vertical-align: top;\n",
              "    }\n",
              "\n",
              "    .dataframe thead th {\n",
              "        text-align: right;\n",
              "    }\n",
              "</style>\n",
              "<table border=\"1\" class=\"dataframe\">\n",
              "  <thead>\n",
              "    <tr style=\"text-align: right;\">\n",
              "      <th></th>\n",
              "      <th>Location</th>\n",
              "      <th>MinTemp</th>\n",
              "      <th>MaxTemp</th>\n",
              "      <th>Rainfall</th>\n",
              "      <th>WindGustDir</th>\n",
              "      <th>WindGustSpeed</th>\n",
              "      <th>WindDir9am</th>\n",
              "      <th>WindDir3pm</th>\n",
              "      <th>WindSpeed9am</th>\n",
              "      <th>WindSpeed3pm</th>\n",
              "      <th>Humidity9am</th>\n",
              "      <th>Humidity3pm</th>\n",
              "      <th>Pressure9am</th>\n",
              "      <th>Pressure3pm</th>\n",
              "      <th>Temp9am</th>\n",
              "      <th>Temp3pm</th>\n",
              "      <th>RainToday</th>\n",
              "      <th>RISK_MM</th>\n",
              "      <th>RainTomorrow</th>\n",
              "    </tr>\n",
              "  </thead>\n",
              "  <tbody>\n",
              "    <tr>\n",
              "      <th>0</th>\n",
              "      <td>Albury</td>\n",
              "      <td>13.4</td>\n",
              "      <td>22.9</td>\n",
              "      <td>0.6</td>\n",
              "      <td>W</td>\n",
              "      <td>44.0</td>\n",
              "      <td>W</td>\n",
              "      <td>WNW</td>\n",
              "      <td>20.0</td>\n",
              "      <td>24.0</td>\n",
              "      <td>71.0</td>\n",
              "      <td>22.0</td>\n",
              "      <td>1007.7</td>\n",
              "      <td>1007.1</td>\n",
              "      <td>16.9</td>\n",
              "      <td>21.8</td>\n",
              "      <td>No</td>\n",
              "      <td>0.0</td>\n",
              "      <td>No</td>\n",
              "    </tr>\n",
              "    <tr>\n",
              "      <th>1</th>\n",
              "      <td>Albury</td>\n",
              "      <td>7.4</td>\n",
              "      <td>25.1</td>\n",
              "      <td>0.0</td>\n",
              "      <td>WNW</td>\n",
              "      <td>44.0</td>\n",
              "      <td>NNW</td>\n",
              "      <td>WSW</td>\n",
              "      <td>4.0</td>\n",
              "      <td>22.0</td>\n",
              "      <td>44.0</td>\n",
              "      <td>25.0</td>\n",
              "      <td>1010.6</td>\n",
              "      <td>1007.8</td>\n",
              "      <td>17.2</td>\n",
              "      <td>24.3</td>\n",
              "      <td>No</td>\n",
              "      <td>0.0</td>\n",
              "      <td>No</td>\n",
              "    </tr>\n",
              "    <tr>\n",
              "      <th>2</th>\n",
              "      <td>Albury</td>\n",
              "      <td>12.9</td>\n",
              "      <td>25.7</td>\n",
              "      <td>0.0</td>\n",
              "      <td>WSW</td>\n",
              "      <td>46.0</td>\n",
              "      <td>W</td>\n",
              "      <td>WSW</td>\n",
              "      <td>19.0</td>\n",
              "      <td>26.0</td>\n",
              "      <td>38.0</td>\n",
              "      <td>30.0</td>\n",
              "      <td>1007.6</td>\n",
              "      <td>1008.7</td>\n",
              "      <td>21.0</td>\n",
              "      <td>23.2</td>\n",
              "      <td>No</td>\n",
              "      <td>0.0</td>\n",
              "      <td>No</td>\n",
              "    </tr>\n",
              "    <tr>\n",
              "      <th>3</th>\n",
              "      <td>Albury</td>\n",
              "      <td>9.2</td>\n",
              "      <td>28.0</td>\n",
              "      <td>0.0</td>\n",
              "      <td>NE</td>\n",
              "      <td>24.0</td>\n",
              "      <td>SE</td>\n",
              "      <td>E</td>\n",
              "      <td>11.0</td>\n",
              "      <td>9.0</td>\n",
              "      <td>45.0</td>\n",
              "      <td>16.0</td>\n",
              "      <td>1017.6</td>\n",
              "      <td>1012.8</td>\n",
              "      <td>18.1</td>\n",
              "      <td>26.5</td>\n",
              "      <td>No</td>\n",
              "      <td>1.0</td>\n",
              "      <td>No</td>\n",
              "    </tr>\n",
              "    <tr>\n",
              "      <th>4</th>\n",
              "      <td>Albury</td>\n",
              "      <td>17.5</td>\n",
              "      <td>32.3</td>\n",
              "      <td>1.0</td>\n",
              "      <td>W</td>\n",
              "      <td>41.0</td>\n",
              "      <td>ENE</td>\n",
              "      <td>NW</td>\n",
              "      <td>7.0</td>\n",
              "      <td>20.0</td>\n",
              "      <td>82.0</td>\n",
              "      <td>33.0</td>\n",
              "      <td>1010.8</td>\n",
              "      <td>1006.0</td>\n",
              "      <td>17.8</td>\n",
              "      <td>29.7</td>\n",
              "      <td>No</td>\n",
              "      <td>0.2</td>\n",
              "      <td>No</td>\n",
              "    </tr>\n",
              "  </tbody>\n",
              "</table>\n",
              "</div>\n",
              "    <div class=\"colab-df-buttons\">\n",
              "\n",
              "  <div class=\"colab-df-container\">\n",
              "    <button class=\"colab-df-convert\" onclick=\"convertToInteractive('df-d859833b-7235-44ad-8cc0-4c93ba5dbc60')\"\n",
              "            title=\"Convert this dataframe to an interactive table.\"\n",
              "            style=\"display:none;\">\n",
              "\n",
              "  <svg xmlns=\"http://www.w3.org/2000/svg\" height=\"24px\" viewBox=\"0 -960 960 960\">\n",
              "    <path d=\"M120-120v-720h720v720H120Zm60-500h600v-160H180v160Zm220 220h160v-160H400v160Zm0 220h160v-160H400v160ZM180-400h160v-160H180v160Zm440 0h160v-160H620v160ZM180-180h160v-160H180v160Zm440 0h160v-160H620v160Z\"/>\n",
              "  </svg>\n",
              "    </button>\n",
              "\n",
              "  <style>\n",
              "    .colab-df-container {\n",
              "      display:flex;\n",
              "      gap: 12px;\n",
              "    }\n",
              "\n",
              "    .colab-df-convert {\n",
              "      background-color: #E8F0FE;\n",
              "      border: none;\n",
              "      border-radius: 50%;\n",
              "      cursor: pointer;\n",
              "      display: none;\n",
              "      fill: #1967D2;\n",
              "      height: 32px;\n",
              "      padding: 0 0 0 0;\n",
              "      width: 32px;\n",
              "    }\n",
              "\n",
              "    .colab-df-convert:hover {\n",
              "      background-color: #E2EBFA;\n",
              "      box-shadow: 0px 1px 2px rgba(60, 64, 67, 0.3), 0px 1px 3px 1px rgba(60, 64, 67, 0.15);\n",
              "      fill: #174EA6;\n",
              "    }\n",
              "\n",
              "    .colab-df-buttons div {\n",
              "      margin-bottom: 4px;\n",
              "    }\n",
              "\n",
              "    [theme=dark] .colab-df-convert {\n",
              "      background-color: #3B4455;\n",
              "      fill: #D2E3FC;\n",
              "    }\n",
              "\n",
              "    [theme=dark] .colab-df-convert:hover {\n",
              "      background-color: #434B5C;\n",
              "      box-shadow: 0px 1px 3px 1px rgba(0, 0, 0, 0.15);\n",
              "      filter: drop-shadow(0px 1px 2px rgba(0, 0, 0, 0.3));\n",
              "      fill: #FFFFFF;\n",
              "    }\n",
              "  </style>\n",
              "\n",
              "    <script>\n",
              "      const buttonEl =\n",
              "        document.querySelector('#df-d859833b-7235-44ad-8cc0-4c93ba5dbc60 button.colab-df-convert');\n",
              "      buttonEl.style.display =\n",
              "        google.colab.kernel.accessAllowed ? 'block' : 'none';\n",
              "\n",
              "      async function convertToInteractive(key) {\n",
              "        const element = document.querySelector('#df-d859833b-7235-44ad-8cc0-4c93ba5dbc60');\n",
              "        const dataTable =\n",
              "          await google.colab.kernel.invokeFunction('convertToInteractive',\n",
              "                                                    [key], {});\n",
              "        if (!dataTable) return;\n",
              "\n",
              "        const docLinkHtml = 'Like what you see? Visit the ' +\n",
              "          '<a target=\"_blank\" href=https://colab.research.google.com/notebooks/data_table.ipynb>data table notebook</a>'\n",
              "          + ' to learn more about interactive tables.';\n",
              "        element.innerHTML = '';\n",
              "        dataTable['output_type'] = 'display_data';\n",
              "        await google.colab.output.renderOutput(dataTable, element);\n",
              "        const docLink = document.createElement('div');\n",
              "        docLink.innerHTML = docLinkHtml;\n",
              "        element.appendChild(docLink);\n",
              "      }\n",
              "    </script>\n",
              "  </div>\n",
              "\n",
              "\n",
              "<div id=\"df-c884108b-b0d9-4f1c-b97b-3f7dd2b21dac\">\n",
              "  <button class=\"colab-df-quickchart\" onclick=\"quickchart('df-c884108b-b0d9-4f1c-b97b-3f7dd2b21dac')\"\n",
              "            title=\"Suggest charts\"\n",
              "            style=\"display:none;\">\n",
              "\n",
              "<svg xmlns=\"http://www.w3.org/2000/svg\" height=\"24px\"viewBox=\"0 0 24 24\"\n",
              "     width=\"24px\">\n",
              "    <g>\n",
              "        <path d=\"M19 3H5c-1.1 0-2 .9-2 2v14c0 1.1.9 2 2 2h14c1.1 0 2-.9 2-2V5c0-1.1-.9-2-2-2zM9 17H7v-7h2v7zm4 0h-2V7h2v10zm4 0h-2v-4h2v4z\"/>\n",
              "    </g>\n",
              "</svg>\n",
              "  </button>\n",
              "\n",
              "<style>\n",
              "  .colab-df-quickchart {\n",
              "      --bg-color: #E8F0FE;\n",
              "      --fill-color: #1967D2;\n",
              "      --hover-bg-color: #E2EBFA;\n",
              "      --hover-fill-color: #174EA6;\n",
              "      --disabled-fill-color: #AAA;\n",
              "      --disabled-bg-color: #DDD;\n",
              "  }\n",
              "\n",
              "  [theme=dark] .colab-df-quickchart {\n",
              "      --bg-color: #3B4455;\n",
              "      --fill-color: #D2E3FC;\n",
              "      --hover-bg-color: #434B5C;\n",
              "      --hover-fill-color: #FFFFFF;\n",
              "      --disabled-bg-color: #3B4455;\n",
              "      --disabled-fill-color: #666;\n",
              "  }\n",
              "\n",
              "  .colab-df-quickchart {\n",
              "    background-color: var(--bg-color);\n",
              "    border: none;\n",
              "    border-radius: 50%;\n",
              "    cursor: pointer;\n",
              "    display: none;\n",
              "    fill: var(--fill-color);\n",
              "    height: 32px;\n",
              "    padding: 0;\n",
              "    width: 32px;\n",
              "  }\n",
              "\n",
              "  .colab-df-quickchart:hover {\n",
              "    background-color: var(--hover-bg-color);\n",
              "    box-shadow: 0 1px 2px rgba(60, 64, 67, 0.3), 0 1px 3px 1px rgba(60, 64, 67, 0.15);\n",
              "    fill: var(--button-hover-fill-color);\n",
              "  }\n",
              "\n",
              "  .colab-df-quickchart-complete:disabled,\n",
              "  .colab-df-quickchart-complete:disabled:hover {\n",
              "    background-color: var(--disabled-bg-color);\n",
              "    fill: var(--disabled-fill-color);\n",
              "    box-shadow: none;\n",
              "  }\n",
              "\n",
              "  .colab-df-spinner {\n",
              "    border: 2px solid var(--fill-color);\n",
              "    border-color: transparent;\n",
              "    border-bottom-color: var(--fill-color);\n",
              "    animation:\n",
              "      spin 1s steps(1) infinite;\n",
              "  }\n",
              "\n",
              "  @keyframes spin {\n",
              "    0% {\n",
              "      border-color: transparent;\n",
              "      border-bottom-color: var(--fill-color);\n",
              "      border-left-color: var(--fill-color);\n",
              "    }\n",
              "    20% {\n",
              "      border-color: transparent;\n",
              "      border-left-color: var(--fill-color);\n",
              "      border-top-color: var(--fill-color);\n",
              "    }\n",
              "    30% {\n",
              "      border-color: transparent;\n",
              "      border-left-color: var(--fill-color);\n",
              "      border-top-color: var(--fill-color);\n",
              "      border-right-color: var(--fill-color);\n",
              "    }\n",
              "    40% {\n",
              "      border-color: transparent;\n",
              "      border-right-color: var(--fill-color);\n",
              "      border-top-color: var(--fill-color);\n",
              "    }\n",
              "    60% {\n",
              "      border-color: transparent;\n",
              "      border-right-color: var(--fill-color);\n",
              "    }\n",
              "    80% {\n",
              "      border-color: transparent;\n",
              "      border-right-color: var(--fill-color);\n",
              "      border-bottom-color: var(--fill-color);\n",
              "    }\n",
              "    90% {\n",
              "      border-color: transparent;\n",
              "      border-bottom-color: var(--fill-color);\n",
              "    }\n",
              "  }\n",
              "</style>\n",
              "\n",
              "  <script>\n",
              "    async function quickchart(key) {\n",
              "      const quickchartButtonEl =\n",
              "        document.querySelector('#' + key + ' button');\n",
              "      quickchartButtonEl.disabled = true;  // To prevent multiple clicks.\n",
              "      quickchartButtonEl.classList.add('colab-df-spinner');\n",
              "      try {\n",
              "        const charts = await google.colab.kernel.invokeFunction(\n",
              "            'suggestCharts', [key], {});\n",
              "      } catch (error) {\n",
              "        console.error('Error during call to suggestCharts:', error);\n",
              "      }\n",
              "      quickchartButtonEl.classList.remove('colab-df-spinner');\n",
              "      quickchartButtonEl.classList.add('colab-df-quickchart-complete');\n",
              "    }\n",
              "    (() => {\n",
              "      let quickchartButtonEl =\n",
              "        document.querySelector('#df-c884108b-b0d9-4f1c-b97b-3f7dd2b21dac button');\n",
              "      quickchartButtonEl.style.display =\n",
              "        google.colab.kernel.accessAllowed ? 'block' : 'none';\n",
              "    })();\n",
              "  </script>\n",
              "</div>\n",
              "    </div>\n",
              "  </div>\n"
            ]
          },
          "metadata": {},
          "execution_count": 7
        }
      ]
    },
    {
      "cell_type": "markdown",
      "source": [
        "### 1) Preprosesing\n"
      ],
      "metadata": {
        "id": "ajD8gtDhw2n6"
      }
    },
    {
      "cell_type": "code",
      "source": [
        "zero_rows = df.loc[(df == 0).any(axis=1)]\n",
        "print(zero_rows)"
      ],
      "metadata": {
        "colab": {
          "base_uri": "https://localhost:8080/"
        },
        "id": "Q0gxaenD8ACY",
        "outputId": "9df5edb3-a73c-48fb-b9dc-321a64dc43f7"
      },
      "execution_count": 8,
      "outputs": [
        {
          "output_type": "stream",
          "name": "stdout",
          "text": [
            "       Location  MinTemp  MaxTemp  Rainfall WindGustDir  WindGustSpeed  \\\n",
            "0        Albury     13.4     22.9       0.6           W           44.0   \n",
            "1        Albury      7.4     25.1       0.0         WNW           44.0   \n",
            "2        Albury     12.9     25.7       0.0         WSW           46.0   \n",
            "3        Albury      9.2     28.0       0.0          NE           24.0   \n",
            "5        Albury     14.6     29.7       0.2         WNW           56.0   \n",
            "...         ...      ...      ...       ...         ...            ...   \n",
            "142188    Uluru      3.5     21.8       0.0           E           31.0   \n",
            "142189    Uluru      2.8     23.4       0.0           E           31.0   \n",
            "142190    Uluru      3.6     25.3       0.0         NNW           22.0   \n",
            "142191    Uluru      5.4     26.9       0.0           N           37.0   \n",
            "142192    Uluru      7.8     27.0       0.0          SE           28.0   \n",
            "\n",
            "       WindDir9am WindDir3pm  WindSpeed9am  WindSpeed3pm  Humidity9am  \\\n",
            "0               W        WNW          20.0          24.0         71.0   \n",
            "1             NNW        WSW           4.0          22.0         44.0   \n",
            "2               W        WSW          19.0          26.0         38.0   \n",
            "3              SE          E          11.0           9.0         45.0   \n",
            "5               W          W          19.0          24.0         55.0   \n",
            "...           ...        ...           ...           ...          ...   \n",
            "142188        ESE          E          15.0          13.0         59.0   \n",
            "142189         SE        ENE          13.0          11.0         51.0   \n",
            "142190         SE          N          13.0           9.0         56.0   \n",
            "142191         SE        WNW           9.0           9.0         53.0   \n",
            "142192        SSE          N          13.0           7.0         51.0   \n",
            "\n",
            "        Humidity3pm  Pressure9am  Pressure3pm  Temp9am  Temp3pm RainToday  \\\n",
            "0              22.0       1007.7       1007.1     16.9     21.8        No   \n",
            "1              25.0       1010.6       1007.8     17.2     24.3        No   \n",
            "2              30.0       1007.6       1008.7     21.0     23.2        No   \n",
            "3              16.0       1017.6       1012.8     18.1     26.5        No   \n",
            "5              23.0       1009.2       1005.4     20.6     28.9        No   \n",
            "...             ...          ...          ...      ...      ...       ...   \n",
            "142188         27.0       1024.7       1021.2      9.4     20.9        No   \n",
            "142189         24.0       1024.6       1020.3     10.1     22.4        No   \n",
            "142190         21.0       1023.5       1019.1     10.9     24.5        No   \n",
            "142191         24.0       1021.0       1016.8     12.5     26.1        No   \n",
            "142192         24.0       1019.4       1016.5     15.1     26.0        No   \n",
            "\n",
            "        RISK_MM RainTomorrow  \n",
            "0           0.0           No  \n",
            "1           0.0           No  \n",
            "2           0.0           No  \n",
            "3           1.0           No  \n",
            "5           0.0           No  \n",
            "...         ...          ...  \n",
            "142188      0.0           No  \n",
            "142189      0.0           No  \n",
            "142190      0.0           No  \n",
            "142191      0.0           No  \n",
            "142192      0.0           No  \n",
            "\n",
            "[112981 rows x 19 columns]\n"
          ]
        }
      ]
    },
    {
      "cell_type": "markdown",
      "source": [
        "Mengubah kata menjadi numeric"
      ],
      "metadata": {
        "id": "PMUpZzeF1JF0"
      }
    },
    {
      "cell_type": "code",
      "source": [
        "cat_list = ['Location', 'WindGustDir', 'WindDir9am', 'WindDir3pm','RainToday', 'RainTomorrow']\n",
        "for column in cat_list:\n",
        "    df[column] = pd.Categorical(df[column])\n",
        "    df[column] = df[column].cat.codes\n",
        "    df[column].replace(-1, np.NaN, inplace=True)\n",
        "\n",
        "    df_mean[column] = pd.Categorical(df_mean[column])\n",
        "    df_mean[column] = df_mean[column].cat.codes\n",
        "    df_mean[column].replace(-1, np.NaN, inplace=True)"
      ],
      "metadata": {
        "id": "kmdWTCjs1Ls0"
      },
      "execution_count": 9,
      "outputs": []
    },
    {
      "cell_type": "code",
      "source": [
        "from sklearn.impute import KNNImputer\n",
        "\n",
        "def filling_null(feature, df=df):\n",
        "\n",
        "    #make train set and test set\n",
        "    temp_df = df.copy().drop('RainTomorrow', axis=1)\n",
        "    df_list = list(temp_df.columns)\n",
        "    df_list.remove(feature)\n",
        "    temp_df.dropna(subset=df_list, inplace=True)\n",
        "    train = temp_df.loc[temp_df.notna()[feature]]\n",
        "    train_x = train.drop(feature, axis=1)\n",
        "    train_y = train[feature]\n",
        "    test = temp_df[temp_df.isnull()[feature]].drop(feature,axis=1)\n",
        "\n",
        "    #run machine learning model and predict null values\n",
        "    KNN = KNeighborsRegressor(n_jobs=-1)\n",
        "    KNN.fit(train_x, train_y)\n",
        "    change_NaN = KNN.predict(test)\n",
        "    index_list = test.index.tolist()\n",
        "    for i in range(len(change_NaN)):\n",
        "        df.at[index_list[i], feature]= change_NaN[i]\n",
        "\n",
        "    #return dataset which had been changed\n",
        "    return df"
      ],
      "metadata": {
        "id": "0ypVI7ve8jD4"
      },
      "execution_count": 10,
      "outputs": []
    },
    {
      "cell_type": "code",
      "source": [
        "apply_list =['MinTemp', 'MaxTemp', 'WindGustDir', 'WindDir9am', 'WindDir3pm', 'Humidity9am',\n",
        "             'Humidity3pm', 'Pressure9am', 'Pressure3pm']\n",
        "for feature in apply_list:\n",
        "    df = filling_null(feature = feature)"
      ],
      "metadata": {
        "id": "PDc2xipD3eTE"
      },
      "execution_count": 11,
      "outputs": []
    },
    {
      "cell_type": "code",
      "source": [
        "print(df.isnull().values.any())\n",
        "print(df_mean.isnull().values.any())"
      ],
      "metadata": {
        "colab": {
          "base_uri": "https://localhost:8080/"
        },
        "id": "HsYB8RTI8vSv",
        "outputId": "2993ba21-ccdc-4cb0-d798-f76cae534d4f"
      },
      "execution_count": 12,
      "outputs": [
        {
          "output_type": "stream",
          "name": "stdout",
          "text": [
            "True\n",
            "True\n"
          ]
        }
      ]
    },
    {
      "cell_type": "code",
      "source": [
        "#getting information of number of null variable changed\n",
        "df_columns = list(df.columns)\n",
        "changed_dict = {}\n",
        "for col in df_columns:\n",
        "    changed_dict[\"%s\" %col] = len(df[col].dropna()) - len(ori[col].dropna())\n",
        "\n",
        "#delet features which did not changed at all\n",
        "pop_list = ['Location','Rainfall','WindGustSpeed','WindSpeed9am','WindSpeed3pm','Temp9am','Temp3pm','RainToday','RainTomorrow']\n",
        "for feature in pop_list:\n",
        "    changed_dict.pop(feature)\n",
        "\n",
        "#make list of key and value to visualize the graph\n",
        "key_list = []\n",
        "value_list = []\n",
        "for key, value in changed_dict.items():\n",
        "    key_list.append(key)\n",
        "    value_list.append(value)\n",
        "\n",
        "temp_df = pd.DataFrame()\n",
        "temp_df['key'] = key_list\n",
        "temp_df['value'] = value_list\n",
        "\n",
        "#visualization\n",
        "plt.figure(figsize=(25, 10))\n",
        "plot = sns.barplot(x='key',y='value', data=temp_df)\n",
        "for p in plot.patches:\n",
        "    plot.annotate(format(p.get_height(), '0.0f'),\n",
        "                   (p.get_x() + p.get_width() / 2., p.get_height()),\n",
        "                   ha = 'center', va = 'center',\n",
        "                   xytext = (0, 9),\n",
        "                   textcoords = 'offset points')\n",
        "plt.yscale('log')\n",
        "plot.axes.get_yaxis().set_visible(False)\n",
        "plt.title('# of null values which changed to non-null values', fontsize=20)\n",
        "plt.show()"
      ],
      "metadata": {
        "colab": {
          "base_uri": "https://localhost:8080/",
          "height": 668
        },
        "id": "EYHAkWwK-a8u",
        "outputId": "a267334b-a6bd-40d9-f90e-290ed096cce2"
      },
      "execution_count": 13,
      "outputs": [
        {
          "output_type": "display_data",
          "data": {
            "text/plain": [
              "<Figure size 2500x1000 with 1 Axes>"
            ],
            "image/png": "[encoded data removed]"
          },
          "metadata": {}
        }
      ]
    },
    {
      "cell_type": "code",
      "source": [
        "df_Xnul = df.fillna(df.mean())"
      ],
      "metadata": {
        "id": "-2qeCxsDAYcu"
      },
      "execution_count": 14,
      "outputs": []
    },
    {
      "cell_type": "code",
      "source": [
        "df_Xnul.info()"
      ],
      "metadata": {
        "colab": {
          "base_uri": "https://localhost:8080/"
        },
        "id": "e1xhXyB6AnOe",
        "outputId": "ce760a8a-49d1-4309-b1de-6375dc3fee66"
      },
      "execution_count": 15,
      "outputs": [
        {
          "output_type": "stream",
          "name": "stdout",
          "text": [
            "<class 'pandas.core.frame.DataFrame'>\n",
            "RangeIndex: 142193 entries, 0 to 142192\n",
            "Data columns (total 19 columns):\n",
            " #   Column         Non-Null Count   Dtype  \n",
            "---  ------         --------------   -----  \n",
            " 0   Location       142193 non-null  int8   \n",
            " 1   MinTemp        142193 non-null  float64\n",
            " 2   MaxTemp        142193 non-null  float64\n",
            " 3   Rainfall       142193 non-null  float64\n",
            " 4   WindGustDir    142193 non-null  float64\n",
            " 5   WindGustSpeed  142193 non-null  float64\n",
            " 6   WindDir9am     142193 non-null  float64\n",
            " 7   WindDir3pm     142193 non-null  float64\n",
            " 8   WindSpeed9am   142193 non-null  float64\n",
            " 9   WindSpeed3pm   142193 non-null  float64\n",
            " 10  Humidity9am    142193 non-null  float64\n",
            " 11  Humidity3pm    142193 non-null  float64\n",
            " 12  Pressure9am    142193 non-null  float64\n",
            " 13  Pressure3pm    142193 non-null  float64\n",
            " 14  Temp9am        142193 non-null  float64\n",
            " 15  Temp3pm        142193 non-null  float64\n",
            " 16  RainToday      142193 non-null  float64\n",
            " 17  RISK_MM        142193 non-null  float64\n",
            " 18  RainTomorrow   142193 non-null  int8   \n",
            "dtypes: float64(17), int8(2)\n",
            "memory usage: 18.7 MB\n"
          ]
        }
      ]
    },
    {
      "cell_type": "markdown",
      "source": [
        "### 1) Splitting data training & tes\n"
      ],
      "metadata": {
        "id": "baqM2aPh_fSV"
      }
    },
    {
      "cell_type": "code",
      "source": [
        "X = df_Xnul.drop(['RainTomorrow'], axis=1)\n",
        "y = df_Xnul['RainTomorrow']\n",
        "X_train, X_test, y_train, y_test = train_test_split(X, y, test_size=0.3, random_state=42, shuffle=True)"
      ],
      "metadata": {
        "id": "_V_3RlQKN8Qd"
      },
      "execution_count": 16,
      "outputs": []
    },
    {
      "cell_type": "markdown",
      "source": [
        "### 1) Membuat Model\n"
      ],
      "metadata": {
        "id": "1-DLLqhpvHle"
      }
    },
    {
      "cell_type": "code",
      "source": [
        "classifier_names = [\"Naive Bayes\",\"Decision Tree\", \"SVM\"]\n",
        "\n",
        "classifiers = [GaussianNB(), DecisionTreeClassifier(), SVC()]\n",
        "\n",
        "zipped_clf = zip(classifier_names,classifiers)"
      ],
      "metadata": {
        "id": "pRvjpgNz_2C-"
      },
      "execution_count": 17,
      "outputs": []
    },
    {
      "cell_type": "code",
      "source": [
        "models = []\n",
        "def fit_classifier(pipeline, X_train, y_train, X_test, y_test):\n",
        "    model_fit = pipeline.fit(X_train, y_train)\n",
        "    models.append(model_fit)\n",
        "    y_pred = model_fit.predict(X_test)\n",
        "    accuracy = accuracy_score(y_test, y_pred)\n",
        "    print(\"accuracy score: {0:.2f}%\".format(accuracy*100))\n",
        "    print()\n",
        "    return accuracy"
      ],
      "metadata": {
        "id": "Pj8MMp63tzDz"
      },
      "execution_count": 18,
      "outputs": []
    },
    {
      "cell_type": "code",
      "source": [
        "def classifier(classifier, t_train, c_train, t_test, c_test):\n",
        "    result = []\n",
        "    for n,c in classifier:\n",
        "        checker_pipeline = Pipeline([\n",
        "            ('standardize', StandardScaler()),\n",
        "            ('classifier', c)\n",
        "        ])\n",
        "        print(\"Validation result for {}\".format(n))\n",
        "        print(c)\n",
        "        clf_acc = fit_classifier(checker_pipeline, t_train, c_train, t_test,c_test)\n",
        "        result.append((n,clf_acc))\n",
        "    return result"
      ],
      "metadata": {
        "id": "LXEG8hCAtu4K"
      },
      "execution_count": 19,
      "outputs": []
    },
    {
      "cell_type": "code",
      "source": [
        "result = classifier(zipped_clf, X_train, y_train, X_test, y_test)"
      ],
      "metadata": {
        "colab": {
          "base_uri": "https://localhost:8080/"
        },
        "id": "d7GnyhUctww8",
        "outputId": "1670a8c7-0fef-4524-8f18-0fa01f94a79c"
      },
      "execution_count": 20,
      "outputs": [
        {
          "output_type": "stream",
          "name": "stdout",
          "text": [
            "Validation result for Naive Bayes\n",
            "GaussianNB()\n",
            "accuracy score: 95.73%\n",
            "\n",
            "Validation result for Decision Tree\n",
            "DecisionTreeClassifier()\n",
            "accuracy score: 100.00%\n",
            "\n",
            "Validation result for SVM\n",
            "SVC()\n",
            "accuracy score: 98.72%\n",
            "\n"
          ]
        }
      ]
    },
    {
      "cell_type": "code",
      "source": [
        "classifier_names, accuracy_scores = zip(*result)\n",
        "\n",
        "plt.bar(classifier_names, accuracy_scores, color=['blue', 'green', 'red'])\n",
        "plt.xlabel('Classifier')\n",
        "plt.ylabel('Accuracy')\n",
        "plt.title('Accuracy of Different Classifiers')\n",
        "plt.ylim(0, 1)\n",
        "\n",
        "for i, v in enumerate(accuracy_scores):\n",
        "    plt.text(i, v + 0.01, \"{:.2f}%\".format(v * 100), ha='center', va='bottom')\n",
        "\n",
        "plt.show()"
      ],
      "metadata": {
        "colab": {
          "base_uri": "https://localhost:8080/",
          "height": 472
        },
        "id": "niax8DXFgW5T",
        "outputId": "29450f35-de96-420c-9e5f-2113c8bf9219"
      },
      "execution_count": 21,
      "outputs": [
        {
          "output_type": "display_data",
          "data": {
            "text/plain": [
              "<Figure size 640x480 with 1 Axes>"
            ],
            "image/png": "[encoded data removed]"
          },
          "metadata": {}
        }
      ]
    },
    {
      "cell_type": "markdown",
      "source": [
        "### 1) Evaluasi\n"
      ],
      "metadata": {
        "id": "-9m24_5tu_gz"
      }
    },
    {
      "cell_type": "code",
      "source": [
        "# Naive Bayes\n",
        "model_gaussian = GaussianNB()\n",
        "model_gaussian.fit(X, y)\n",
        "\n",
        "cv_scores = cross_val_score(model_gaussian, X_train, y_train, cv=5, scoring='accuracy')\n",
        "\n",
        "mean_score = cv_scores.mean()\n",
        "std_score = cv_scores.std()\n",
        "\n",
        "model_gaussian.fit(X_train, y_train)\n",
        "\n",
        "train_score = model_gaussian.score(X_train, y_train)\n",
        "\n",
        "test_score = model_gaussian.score(X_test, y_test)\n",
        "\n",
        "print(\"Mean Cross-Validation Score:\", mean_score)\n",
        "print(\"Standard Deviation of Cross-Validation Scores:\", std_score)\n",
        "print(\"Training Score:\", train_score)\n",
        "print(\"Testing Score:\", test_score)"
      ],
      "metadata": {
        "id": "qSMUBSFPfcJt",
        "outputId": "f045731e-1ca6-44b4-cd81-d63a0d284512",
        "colab": {
          "base_uri": "https://localhost:8080/"
        }
      },
      "execution_count": 22,
      "outputs": [
        {
          "output_type": "stream",
          "name": "stdout",
          "text": [
            "Mean Cross-Validation Score: 0.9589893002461445\n",
            "Standard Deviation of Cross-Validation Scores: 0.001687609270997798\n",
            "Training Score: 0.9590495805495555\n",
            "Testing Score: 0.9573116414271648\n"
          ]
        }
      ]
    },
    {
      "cell_type": "code",
      "source": [
        "y_pred_cv = cross_val_predict(model_gaussian, X_train, y_train, cv=5)\n",
        "\n",
        "class_report = classification_report(y_train, y_pred_cv)\n",
        "\n",
        "print(\"Classification Report:\")\n",
        "print(class_report)"
      ],
      "metadata": {
        "colab": {
          "base_uri": "https://localhost:8080/"
        },
        "id": "iKHGsZXZomxG",
        "outputId": "1648968f-31ad-4b01-c2e0-8739bad39faf"
      },
      "execution_count": 26,
      "outputs": [
        {
          "output_type": "stream",
          "name": "stdout",
          "text": [
            "Classification Report:\n",
            "              precision    recall  f1-score   support\n",
            "\n",
            "           0       1.00      0.95      0.97     77183\n",
            "           1       0.85      1.00      0.92     22352\n",
            "\n",
            "    accuracy                           0.96     99535\n",
            "   macro avg       0.92      0.97      0.94     99535\n",
            "weighted avg       0.97      0.96      0.96     99535\n",
            "\n"
          ]
        }
      ]
    },
    {
      "cell_type": "code",
      "source": [
        "class_report = classification_report(y_train, y_pred_cv, output_dict=True)\n",
        "cm = confusion_matrix(y_train, y_pred_cv)\n",
        "\n",
        "recall = [class_report[label]['recall'] for label in class_report.keys() if label in ['0', '1']]\n",
        "precision = [class_report[label]['precision'] for label in class_report.keys() if label in ['0', '1']]\n",
        "f1_score = [class_report[label]['f1-score'] for label in class_report.keys() if label in ['0', '1']]\n",
        "specificity = [(cm[0, 0] / (cm[0, 0] + cm[0, 1])), (cm[1, 1] / (cm[1, 0] + cm[1, 1]))]\n",
        "\n",
        "\n",
        "labels = ['Class 0', 'Class 1']\n",
        "metrics = [recall, specificity, precision, f1_score]\n",
        "metric_names = ['Recall', 'Specificity', 'Precision', 'F1 Score']\n",
        "\n",
        "plt.figure(figsize=(12, 8))\n",
        "\n",
        "for i, metric in enumerate(metrics):\n",
        "    plt.subplot(2, 2, i + 1)\n",
        "    bars = plt.bar(labels, metric, color=['blue', 'green'])\n",
        "    plt.ylim(0, 1)\n",
        "    plt.title(metric_names[i])\n",
        "    plt.ylabel('Score')\n",
        "\n",
        "\n",
        "    for bar, score in zip(bars, metric):\n",
        "        plt.text(bar.get_x() + bar.get_width() / 2 - 0.1, bar.get_height() + 0.02,\n",
        "                 \"{:.2%}\".format(score), ha='center', va='bottom')\n",
        "\n",
        "plt.suptitle('Naive Bayes Performance Metrics by Class', fontsize=16)\n",
        "\n",
        "plt.tight_layout()\n",
        "plt.show()"
      ],
      "metadata": {
        "colab": {
          "base_uri": "https://localhost:8080/",
          "height": 805
        },
        "id": "KhL8e-HqpPyC",
        "outputId": "a76b8f20-9578-4c1a-db9d-c4302beb718d"
      },
      "execution_count": 27,
      "outputs": [
        {
          "output_type": "display_data",
          "data": {
            "text/plain": [
              "<Figure size 1200x800 with 4 Axes>"
            ],
            "image/png": "[encoded data removed]"
          },
          "metadata": {}
        }
      ]
    },
    {
      "cell_type": "code",
      "source": [
        "# Decision Tree\n",
        "model_tree = DecisionTreeClassifier()\n",
        "model_tree.fit(X, y)\n",
        "\n",
        "cv_scores = cross_val_score(model_tree, X_train, y_train, cv=5, scoring='accuracy')\n",
        "\n",
        "mean_score = cv_scores.mean()\n",
        "std_score = cv_scores.std()\n",
        "\n",
        "model_tree.fit(X_train, y_train)\n",
        "\n",
        "train_score = model_tree.score(X_train, y_train)\n",
        "\n",
        "test_score = model_tree.score(X_test, y_test)\n",
        "\n",
        "print(\"Mean Cross-Validation Score:\", mean_score)\n",
        "print(\"Standard Deviation of Cross-Validation Scores:\", std_score)\n",
        "print(\"Training Score:\", train_score)\n",
        "print(\"Testing Score:\", test_score)"
      ],
      "metadata": {
        "id": "OK9Ciz3qfrHQ",
        "outputId": "f02dd94f-23ac-458d-e56b-a4c016825723",
        "colab": {
          "base_uri": "https://localhost:8080/"
        }
      },
      "execution_count": 28,
      "outputs": [
        {
          "output_type": "stream",
          "name": "stdout",
          "text": [
            "Mean Cross-Validation Score: 1.0\n",
            "Standard Deviation of Cross-Validation Scores: 0.0\n",
            "Training Score: 1.0\n",
            "Testing Score: 1.0\n"
          ]
        }
      ]
    },
    {
      "cell_type": "code",
      "source": [
        "y_pred_cv = cross_val_predict(model_tree, X_train, y_train, cv=5)\n",
        "\n",
        "class_report = classification_report(y_train, y_pred_cv)\n",
        "\n",
        "print(\"Classification Report:\")\n",
        "print(class_report)"
      ],
      "metadata": {
        "colab": {
          "base_uri": "https://localhost:8080/"
        },
        "id": "gFuEPegPzW64",
        "outputId": "423c4cbd-c8f2-41b1-c9ea-30ce2c5ed6ca"
      },
      "execution_count": 29,
      "outputs": [
        {
          "output_type": "stream",
          "name": "stdout",
          "text": [
            "Classification Report:\n",
            "              precision    recall  f1-score   support\n",
            "\n",
            "           0       1.00      1.00      1.00     77183\n",
            "           1       1.00      1.00      1.00     22352\n",
            "\n",
            "    accuracy                           1.00     99535\n",
            "   macro avg       1.00      1.00      1.00     99535\n",
            "weighted avg       1.00      1.00      1.00     99535\n",
            "\n"
          ]
        }
      ]
    },
    {
      "cell_type": "code",
      "source": [
        "class_report = classification_report(y_train, y_pred_cv, output_dict=True)\n",
        "cm = confusion_matrix(y_train, y_pred_cv)\n",
        "\n",
        "recall = [class_report[label]['recall'] for label in class_report.keys() if label in ['0', '1']]\n",
        "precision = [class_report[label]['precision'] for label in class_report.keys() if label in ['0', '1']]\n",
        "f1_score = [class_report[label]['f1-score'] for label in class_report.keys() if label in ['0', '1']]\n",
        "specificity = [(cm[0, 0] / (cm[0, 0] + cm[0, 1])), (cm[1, 1] / (cm[1, 0] + cm[1, 1]))]\n",
        "\n",
        "\n",
        "labels = ['Class 0', 'Class 1']\n",
        "metrics = [recall, specificity, precision, f1_score]\n",
        "metric_names = ['Recall', 'Specificity', 'Precision', 'F1 Score']\n",
        "\n",
        "plt.figure(figsize=(12, 8))\n",
        "\n",
        "for i, metric in enumerate(metrics):\n",
        "    plt.subplot(2, 2, i + 1)\n",
        "    bars = plt.bar(labels, metric, color=['blue', 'green'])\n",
        "    plt.ylim(0, 1)\n",
        "    plt.title(metric_names[i])\n",
        "    plt.ylabel('Score')\n",
        "\n",
        "\n",
        "    for bar, score in zip(bars, metric):\n",
        "        plt.text(bar.get_x() + bar.get_width() / 2 - 0.1, bar.get_height() + 0.02,\n",
        "                 \"{:.2%}\".format(score), ha='center', va='bottom')\n",
        "\n",
        "plt.suptitle('Decision Tree Performance Metrics by Class', fontsize=16)\n",
        "\n",
        "plt.tight_layout()\n",
        "plt.show()"
      ],
      "metadata": {
        "colab": {
          "base_uri": "https://localhost:8080/",
          "height": 805
        },
        "id": "efnrnzbhw2Ha",
        "outputId": "69eb8b6e-b172-4290-9a40-4e4167a5df38"
      },
      "execution_count": 30,
      "outputs": [
        {
          "output_type": "display_data",
          "data": {
            "text/plain": [
              "<Figure size 1200x800 with 4 Axes>"
            ],
            "image/png": "[encoded data removed]"
          },
          "metadata": {}
        }
      ]
    },
    {
      "cell_type": "code",
      "source": [
        "# SVM\n",
        "model_svm = SVC()\n",
        "model_svm.fit(X, y)\n",
        "\n",
        "cv_scores = cross_val_score(model_svm, X_train, y_train, cv=5, scoring='accuracy')\n",
        "\n",
        "mean_score = cv_scores.mean()\n",
        "std_score = cv_scores.std()\n",
        "\n",
        "model_svm.fit(X_train, y_train)\n",
        "\n",
        "train_score = model_svm.score(X_train, y_train)\n",
        "\n",
        "test_score = model_svm.score(X_test, y_test)\n",
        "\n",
        "print(\"Mean Cross-Validation Score:\", mean_score)\n",
        "print(\"Standard Deviation of Cross-Validation Scores:\", std_score)\n",
        "print(\"Training Score:\", train_score)\n",
        "print(\"Testing Score:\", test_score)"
      ],
      "metadata": {
        "id": "gWp03DB4eZ1q",
        "colab": {
          "base_uri": "https://localhost:8080/"
        },
        "outputId": "eeedaf16-e99c-4064-d9c5-7a5401dae1e9"
      },
      "execution_count": 31,
      "outputs": [
        {
          "output_type": "stream",
          "name": "stdout",
          "text": [
            "Mean Cross-Validation Score: 0.8635555332295173\n",
            "Standard Deviation of Cross-Validation Scores: 0.0013692315568475662\n",
            "Training Score: 0.8686391721504998\n",
            "Testing Score: 0.8706221576257678\n"
          ]
        }
      ]
    },
    {
      "cell_type": "code",
      "source": [
        "y_pred_cv = cross_val_predict(model_svm, X_train, y_train, cv=5)\n",
        "\n",
        "class_report = classification_report(y_train, y_pred_cv)\n",
        "\n",
        "print(\"Classification Report:\")\n",
        "print(class_report)"
      ],
      "metadata": {
        "id": "vdkYz4e4zhjh",
        "colab": {
          "base_uri": "https://localhost:8080/"
        },
        "outputId": "ef9b2e8b-c290-4860-b865-07c2fbb6b89a"
      },
      "execution_count": 32,
      "outputs": [
        {
          "output_type": "stream",
          "name": "stdout",
          "text": [
            "Classification Report:\n",
            "              precision    recall  f1-score   support\n",
            "\n",
            "           0       0.85      1.00      0.92     77183\n",
            "           1       0.99      0.40      0.57     22352\n",
            "\n",
            "    accuracy                           0.86     99535\n",
            "   macro avg       0.92      0.70      0.74     99535\n",
            "weighted avg       0.88      0.86      0.84     99535\n",
            "\n"
          ]
        }
      ]
    },
    {
      "cell_type": "code",
      "source": [
        "class_report = classification_report(y_train, y_pred_cv, output_dict=True)\n",
        "cm = confusion_matrix(y_train, y_pred_cv)\n",
        "\n",
        "recall = [class_report[label]['recall'] for label in class_report.keys() if label in ['0', '1']]\n",
        "precision = [class_report[label]['precision'] for label in class_report.keys() if label in ['0', '1']]\n",
        "f1_score = [class_report[label]['f1-score'] for label in class_report.keys() if label in ['0', '1']]\n",
        "specificity = [(cm[0, 0] / (cm[0, 0] + cm[0, 1])), (cm[1, 1] / (cm[1, 0] + cm[1, 1]))]\n",
        "\n",
        "\n",
        "labels = ['Class 0', 'Class 1']\n",
        "metrics = [recall, specificity, precision, f1_score]\n",
        "metric_names = ['Recall', 'Specificity', 'Precision', 'F1 Score']\n",
        "\n",
        "plt.figure(figsize=(12, 8))\n",
        "\n",
        "for i, metric in enumerate(metrics):\n",
        "    plt.subplot(2, 2, i + 1)\n",
        "    bars = plt.bar(labels, metric, color=['blue', 'green'])\n",
        "    plt.ylim(0, 1)\n",
        "    plt.title(metric_names[i])\n",
        "    plt.ylabel('Score')\n",
        "\n",
        "\n",
        "    for bar, score in zip(bars, metric):\n",
        "        plt.text(bar.get_x() + bar.get_width() / 2 - 0.1, bar.get_height() + 0.02,\n",
        "                 \"{:.2%}\".format(score), ha='center', va='bottom')\n",
        "\n",
        "plt.suptitle('SVM Performance Metrics by Class', fontsize=16)\n",
        "\n",
        "plt.tight_layout()\n",
        "plt.show()"
      ],
      "metadata": {
        "id": "LhnZ_MpwzjAB",
        "colab": {
          "base_uri": "https://localhost:8080/",
          "height": 805
        },
        "outputId": "610749ce-64ec-404e-d1f2-c1eab70c84eb"
      },
      "execution_count": 33,
      "outputs": [
        {
          "output_type": "display_data",
          "data": {
            "text/plain": [
              "<Figure size 1200x800 with 4 Axes>"
            ],
            "image/png": "[encoded data removed]"
          },
          "metadata": {}
        }
      ]
    }
  ]
}